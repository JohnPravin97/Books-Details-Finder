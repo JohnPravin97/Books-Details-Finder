{
 "cells": [
  {
   "cell_type": "markdown",
   "metadata": {},
   "source": [
    "# Welcome to Top Books Details Finder"
   ]
  },
  {
   "cell_type": "markdown",
   "metadata": {},
   "source": [
    "# Library\n"
   ]
  },
  {
   "cell_type": "code",
   "execution_count": 1,
   "metadata": {},
   "outputs": [],
   "source": [
    "import pandas as pd\n",
    "from bs4 import BeautifulSoup\n",
    "from urllib.request import urlopen, Request, urlretrieve\n",
    "from IPython.display import IFrame, display\n",
    "from PIL import Image\n",
    "from selenium import webdriver\n",
    "import os"
   ]
  },
  {
   "cell_type": "markdown",
   "metadata": {},
   "source": [
    "# Input your favourate book"
   ]
  },
  {
   "cell_type": "code",
   "execution_count": 2,
   "metadata": {},
   "outputs": [
    {
     "name": "stdin",
     "output_type": "stream",
     "text": [
      "Enter the topic to get top relevant books :  machine learning\n"
     ]
    }
   ],
   "source": [
    "inp = input('Enter the topic to get top relevant books : ')"
   ]
  },
  {
   "cell_type": "markdown",
   "metadata": {},
   "source": [
    "# Relevant Book Scraper"
   ]
  },
  {
   "cell_type": "code",
   "execution_count": 3,
   "metadata": {},
   "outputs": [],
   "source": [
    "def relevant_book_scraper(inp):\n",
    "    url = 'https://www.google.com//search?tbm=bks&q='+ inp\n",
    "    driver = webdriver.Chrome(executable_path=r'C:\\Users\\jpravijo\\Desktop\\Anaconda\\chromedriver_win32 (3)\\chromedriver.exe')\n",
    "    driver.get(url)\n",
    "    html = driver.page_source\n",
    "    soup = BeautifulSoup(html,'lxml')\n",
    "    driver.close()\n",
    "    book_name_list, authors_list, relevant_no_list, links_list = [], [], [], []\n",
    "    k = 1\n",
    "    for i, content in enumerate(soup.find_all('div', class_='bHexk Tz5Hvf')):\n",
    "        if k>5:\n",
    "            break\n",
    "        \n",
    "        # Book Names Scraping\n",
    "        try:\n",
    "            book_name = content.find('h3', class_='LC20lb DKV0Md').text\n",
    "            book_name = book_name.split('-')[0]\n",
    "        except:\n",
    "            book_name = 'Book Name not found'\n",
    "        \n",
    "        # Authors Names Scraping\n",
    "        try:\n",
    "            authors = content.find('div', class_='N96wpd').text\n",
    "            authors = authors.split('·')[0]\n",
    "        except:\n",
    "            authors = ' Authors Name not found'\n",
    "        \n",
    "        # Detailed Information links Scraping\n",
    "        try:\n",
    "            try:\n",
    "                links = content.find('a', class_='yKioRe VZ2GVc')['href']\n",
    "            \n",
    "            except:\n",
    "                links = content.find('a')['href']\n",
    "                \n",
    "            if 'edition' in links:\n",
    "                links = 'https://www.google.co.in' + links\n",
    "\n",
    "        except:\n",
    "            links = 'Links Not Found'   \n",
    "        \n",
    "        if book_name not in book_name_list:\n",
    "            book_name_list.append(book_name)\n",
    "            authors_list.append(authors)\n",
    "            relevant_no_list.append(k)\n",
    "            links_list.append(links)\n",
    "            k+=1\n",
    "        \n",
    "        else:\n",
    "            continue\n",
    "        \n",
    "    dic = {'Relevant_No': relevant_no_list, 'Books_Name' : book_name_list, 'Author_Names':authors_list, 'Links':links_list}\n",
    "    df = pd.DataFrame(dic)\n",
    "    df.set_index('Relevant_No', inplace=True)\n",
    "\n",
    "    return df"
   ]
  },
  {
   "cell_type": "code",
   "execution_count": 4,
   "metadata": {},
   "outputs": [],
   "source": [
    "df = relevant_book_scraper(inp)"
   ]
  },
  {
   "cell_type": "code",
   "execution_count": 5,
   "metadata": {},
   "outputs": [
    {
     "data": {
      "text/html": [
       "<div>\n",
       "<style scoped>\n",
       "    .dataframe tbody tr th:only-of-type {\n",
       "        vertical-align: middle;\n",
       "    }\n",
       "\n",
       "    .dataframe tbody tr th {\n",
       "        vertical-align: top;\n",
       "    }\n",
       "\n",
       "    .dataframe thead th {\n",
       "        text-align: right;\n",
       "    }\n",
       "</style>\n",
       "<table border=\"1\" class=\"dataframe\">\n",
       "  <thead>\n",
       "    <tr style=\"text-align: right;\">\n",
       "      <th></th>\n",
       "      <th>Books_Name</th>\n",
       "      <th>Author_Names</th>\n",
       "      <th>Links</th>\n",
       "    </tr>\n",
       "    <tr>\n",
       "      <th>Relevant_No</th>\n",
       "      <th></th>\n",
       "      <th></th>\n",
       "      <th></th>\n",
       "    </tr>\n",
       "  </thead>\n",
       "  <tbody>\n",
       "    <tr>\n",
       "      <th>1</th>\n",
       "      <td>Machine Learning: An Artificial Intelligence A...</td>\n",
       "      <td>Ryszard S. Michalski, ‎Jaime G. Carbonell, ‎To...</td>\n",
       "      <td>https://books.google.co.in/books?id=Aw2jBQAAQB...</td>\n",
       "    </tr>\n",
       "    <tr>\n",
       "      <th>2</th>\n",
       "      <td>Deep Learning</td>\n",
       "      <td>Ian Goodfellow, ‎Yoshua Bengio, ‎Aaron Courville</td>\n",
       "      <td>https://books.google.co.in/books?id=omivDQAAQB...</td>\n",
       "    </tr>\n",
       "    <tr>\n",
       "      <th>3</th>\n",
       "      <td>Machine Learning: A Probabilistic Perspective</td>\n",
       "      <td>Kevin P. Murphy</td>\n",
       "      <td>https://books.google.co.in/books?id=NZP6AQAAQB...</td>\n",
       "    </tr>\n",
       "    <tr>\n",
       "      <th>4</th>\n",
       "      <td>Interpretable Machine Learning</td>\n",
       "      <td>Christoph Molnar</td>\n",
       "      <td>https://books.google.co.in/books?id=jBm3DwAAQB...</td>\n",
       "    </tr>\n",
       "    <tr>\n",
       "      <th>5</th>\n",
       "      <td>Machine Learning: A Guide to Current Research</td>\n",
       "      <td>Tom M. Mitchell, ‎Jaime G. Carbonell, ‎Ryszard...</td>\n",
       "      <td>https://books.google.co.in/books?id=BSbSBwAAQB...</td>\n",
       "    </tr>\n",
       "  </tbody>\n",
       "</table>\n",
       "</div>"
      ],
      "text/plain": [
       "                                                    Books_Name  \\\n",
       "Relevant_No                                                      \n",
       "1            Machine Learning: An Artificial Intelligence A...   \n",
       "2                                                Deep Learning   \n",
       "3                Machine Learning: A Probabilistic Perspective   \n",
       "4                               Interpretable Machine Learning   \n",
       "5                Machine Learning: A Guide to Current Research   \n",
       "\n",
       "                                                  Author_Names  \\\n",
       "Relevant_No                                                      \n",
       "1            Ryszard S. Michalski, ‎Jaime G. Carbonell, ‎To...   \n",
       "2            Ian Goodfellow, ‎Yoshua Bengio, ‎Aaron Courville    \n",
       "3                                             Kevin P. Murphy    \n",
       "4                                            Christoph Molnar    \n",
       "5            Tom M. Mitchell, ‎Jaime G. Carbonell, ‎Ryszard...   \n",
       "\n",
       "                                                         Links  \n",
       "Relevant_No                                                     \n",
       "1            https://books.google.co.in/books?id=Aw2jBQAAQB...  \n",
       "2            https://books.google.co.in/books?id=omivDQAAQB...  \n",
       "3            https://books.google.co.in/books?id=NZP6AQAAQB...  \n",
       "4            https://books.google.co.in/books?id=jBm3DwAAQB...  \n",
       "5            https://books.google.co.in/books?id=BSbSBwAAQB...  "
      ]
     },
     "execution_count": 5,
     "metadata": {},
     "output_type": "execute_result"
    }
   ],
   "source": [
    "df.head()"
   ]
  },
  {
   "cell_type": "markdown",
   "metadata": {},
   "source": [
    "# To Scrape the Detail of the Interested book"
   ]
  },
  {
   "cell_type": "code",
   "execution_count": 6,
   "metadata": {},
   "outputs": [],
   "source": [
    "def book_details(df, index):\n",
    "    index-=1\n",
    "    url = df.iloc[index, 2]\n",
    "    book_name = df.iloc[index, 0]\n",
    "    driver = webdriver.Chrome(executable_path=r'C:\\Users\\jpravijo\\Desktop\\Anaconda\\chromedriver_win32 (3)\\chromedriver.exe')\n",
    "    driver.get(url)\n",
    "    html = driver.page_source\n",
    "    soup = BeautifulSoup(html,'lxml')\n",
    "    driver.close()\n",
    "    print(f'\\n\\033[1mTHE DETAILS ARE AS FOLLOWS \\033[0m\\n')\n",
    "    print(f'Book Name:\\033[1m {book_name} \\033[0m')\n",
    "    \n",
    "    # Title page image scraping\n",
    "    filepath = r\"C:\\Users\\jpravijo\\Desktop\\Anaconda\\Book Images\\\\\" + book_name + \".png\"\n",
    "    try:\n",
    "        try:\n",
    "            name = soup.find('div', class_=\"WnWrFd\").text\n",
    "            img = soup.find('img', alt=name)['src']\n",
    "        except:\n",
    "            img = soup.find('img', class_='rISBZc M4dUYb')['src']\n",
    "        urlretrieve(img, filepath)\n",
    "        image = Image.open(filepath)\n",
    "    except:\n",
    "        image='Not Found'\n",
    "    \n",
    "    # To Scrape and Print the Details\n",
    "    for i, content in enumerate(soup.find_all('div', class_=\"Z1hOCe\")):\n",
    "        print(content.text)\n",
    "    return image"
   ]
  },
  {
   "cell_type": "code",
   "execution_count": 8,
   "metadata": {},
   "outputs": [
    {
     "name": "stdin",
     "output_type": "stream",
     "text": [
      "enter the index of the favourate book from above for more details:  4\n"
     ]
    },
    {
     "name": "stdout",
     "output_type": "stream",
     "text": [
      "\n",
      "\u001b[1mTHE DETAILS ARE AS FOLLOWS \u001b[0m\n",
      "\n",
      "Book Name:\u001b[1m Interpretable Machine Learning \u001b[0m\n",
      "ISBN: 9780244768522, 0244768528\n",
      "Page count: 320\n",
      "Published: 28 February 2020\n",
      "Format: Paperback\n",
      "Publisher: Lulu.com\n",
      "Language: English\n",
      "Author: Christoph Molnar\n",
      "Originally published: 28 February 2020\n",
      "Subject: Machine learning, Supervised learning (Machine learning)\n",
      "\n",
      " \u001b[1mThe title page of the book you have searched \u001b[0m\n",
      "\n"
     ]
    },
    {
     "data": {
      "image/png": "[encoded data removed]",
      "text/plain": [
       "<PIL.JpegImagePlugin.JpegImageFile image mode=RGB size=124x162 at 0x24698051D08>"
      ]
     },
     "execution_count": 8,
     "metadata": {},
     "output_type": "execute_result"
    }
   ],
   "source": [
    "index = int(input('enter the index of the favourate book from above for more details: '))\n",
    "image = book_details(df, index)\n",
    "print('\\n \\033[1mThe title page of the book you have searched \\033[0m\\n')\n",
    "image"
   ]
  }
 ],
 "metadata": {
  "kernelspec": {
   "display_name": "Python 3",
   "language": "python",
   "name": "python3"
  },
  "language_info": {
   "codemirror_mode": {
    "name": "ipython",
    "version": 3
   },
   "file_extension": ".py",
   "mimetype": "text/x-python",
   "name": "python",
   "nbconvert_exporter": "python",
   "pygments_lexer": "ipython3",
   "version": "3.7.6"
  },
  "toc": {
   "base_numbering": 1,
   "nav_menu": {},
   "number_sections": true,
   "sideBar": true,
   "skip_h1_title": false,
   "title_cell": "Table of Contents",
   "title_sidebar": "Contents",
   "toc_cell": false,
   "toc_position": {},
   "toc_section_display": true,
   "toc_window_display": false
  }
 },
 "nbformat": 4,
 "nbformat_minor": 4
}
